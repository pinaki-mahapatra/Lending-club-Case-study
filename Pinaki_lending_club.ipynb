{
 "cells": [
  {
   "cell_type": "markdown",
   "metadata": {
    "colab_type": "text",
    "id": "H7X6wXOHw2XA"
   },
   "source": [
    "# Importing data"
   ]
  },
  {
   "cell_type": "code",
   "execution_count": 6,
   "metadata": {
    "colab": {},
    "colab_type": "code",
    "id": "NganzoGYw2XC"
   },
   "outputs": [],
   "source": [
    "# Input file location and name\n",
    "input_file = r\"C:\\Users\\PINAKI\\Desktop\\upgrad\\LendingCLub\\loan.csv\""
   ]
  },
  {
   "cell_type": "code",
   "execution_count": 7,
   "metadata": {
    "colab": {},
    "colab_type": "code",
    "id": "FM6XoODpw2XG"
   },
   "outputs": [],
   "source": [
    "import pandas as pd\n",
    "import numpy as np\n",
    "import matplotlib as mpl\n",
    "mpl.use('TkAgg')\n",
    "import matplotlib.pyplot as plt\n",
    "import seaborn as sns\n",
    "plt.style.use('seaborn')\n",
    "%matplotlib inline"
   ]
  },
  {
   "cell_type": "code",
   "execution_count": 8,
   "metadata": {
    "colab": {
     "base_uri": "https://localhost:8080/",
     "height": 778
    },
    "colab_type": "code",
    "executionInfo": {
     "elapsed": 1504,
     "status": "error",
     "timestamp": 1548919241773,
     "user": {
      "displayName": "vasanth kumar",
      "photoUrl": "https://lh5.googleusercontent.com/-wIqCb5U-q5w/AAAAAAAAAAI/AAAAAAAAACE/9Ue3z-JSD24/s64/photo.jpg",
      "userId": "12647362398876880173"
     },
     "user_tz": -330
    },
    "id": "hxd3kNPfw2XK",
    "outputId": "f8af536c-ba8d-4a76-af88-9f36a3509b1d"
   },
   "outputs": [
    {
     "name": "stdout",
     "output_type": "stream",
     "text": [
      "Rows: 39717, Columns: 111\n"
     ]
    }
   ],
   "source": [
    "# Reading in the loan file and inspecting its shape\n",
    "loan = pd.read_csv(input_file, low_memory=False)\n",
    "print(\"Rows: %d, Columns: %d\" % (loan.shape[0], loan.shape[1]))"
   ]
  },
  {
   "cell_type": "markdown",
   "metadata": {
    "colab_type": "text",
    "id": "tM_yAYXvw2XQ"
   },
   "source": [
    "# Filtering Rows and Columns"
   ]
  },
  {
   "cell_type": "code",
   "execution_count": 10,
   "metadata": {
    "colab": {},
    "colab_type": "code",
    "id": "ecrQB594w2XR",
    "outputId": "64dd5361-dd8f-4b14-d320-9574b6d6c1fb"
   },
   "outputs": [
    {
     "name": "stdout",
     "output_type": "stream",
     "text": [
      "        id  member_id  loan_amnt  funded_amnt  funded_amnt_inv        term  \\\n",
      "0  1077501    1296599       5000         5000           4975.0   36 months   \n",
      "1  1077430    1314167       2500         2500           2500.0   60 months   \n",
      "2  1077175    1313524       2400         2400           2400.0   36 months   \n",
      "3  1076863    1277178      10000        10000          10000.0   36 months   \n",
      "4  1075358    1311748       3000         3000           3000.0   60 months   \n",
      "\n",
      "  int_rate  installment grade sub_grade    ...    next_pymnt_d  \\\n",
      "0   10.65%       162.87     B        B2    ...             NaN   \n",
      "1   15.27%        59.83     C        C4    ...             NaN   \n",
      "2   15.96%        84.33     C        C5    ...             NaN   \n",
      "3   13.49%       339.31     C        C1    ...             NaN   \n",
      "4   12.69%        67.79     B        B5    ...          Jun-16   \n",
      "\n",
      "  last_credit_pull_d collections_12_mths_ex_med  policy_code application_type  \\\n",
      "0             May-16                        0.0            1       INDIVIDUAL   \n",
      "1             Sep-13                        0.0            1       INDIVIDUAL   \n",
      "2             May-16                        0.0            1       INDIVIDUAL   \n",
      "3             Apr-16                        0.0            1       INDIVIDUAL   \n",
      "4             May-16                        0.0            1       INDIVIDUAL   \n",
      "\n",
      "  acc_now_delinq chargeoff_within_12_mths delinq_amnt pub_rec_bankruptcies  \\\n",
      "0              0                      0.0           0                  0.0   \n",
      "1              0                      0.0           0                  0.0   \n",
      "2              0                      0.0           0                  0.0   \n",
      "3              0                      0.0           0                  0.0   \n",
      "4              0                      0.0           0                  0.0   \n",
      "\n",
      "  tax_liens  \n",
      "0       0.0  \n",
      "1       0.0  \n",
      "2       0.0  \n",
      "3       0.0  \n",
      "4       0.0  \n",
      "\n",
      "[5 rows x 57 columns]\n"
     ]
    }
   ],
   "source": [
    "# Dropping columns which are completely empty\n",
    "loan = loan.dropna(axis='columns', how='all')\n",
    "loan.shape\n",
    "print(loan.head(5))"
   ]
  },
  {
   "cell_type": "code",
   "execution_count": 12,
   "metadata": {
    "colab": {},
    "colab_type": "code",
    "id": "CKzZg5w5w2XW",
    "outputId": "3f9acb35-e234-4924-a6c7-3ecbd661bf4f",
    "scrolled": true
   },
   "outputs": [
    {
     "ename": "KeyError",
     "evalue": "\"['collections_12_mths_ex_med' 'acc_now_delinq' 'chargeoff_within_12_mths'\\n 'delinq_amnt' 'tax_liens' 'initial_list_status' 'application_type'] not found in axis\"",
     "output_type": "error",
     "traceback": [
      "\u001b[1;31m---------------------------------------------------------------------------\u001b[0m",
      "\u001b[1;31mKeyError\u001b[0m                                  Traceback (most recent call last)",
      "\u001b[1;32m<ipython-input-12-e14985f30cc0>\u001b[0m in \u001b[0;36m<module>\u001b[1;34m\u001b[0m\n\u001b[0;32m      3\u001b[0m empty_columns = ['collections_12_mths_ex_med', 'acc_now_delinq', 'chargeoff_within_12_mths', \n\u001b[0;32m      4\u001b[0m                  'delinq_amnt', 'tax_liens', 'initial_list_status', 'application_type']\n\u001b[1;32m----> 5\u001b[1;33m \u001b[0mloan\u001b[0m \u001b[1;33m=\u001b[0m \u001b[0mloan\u001b[0m\u001b[1;33m.\u001b[0m\u001b[0mdrop\u001b[0m\u001b[1;33m(\u001b[0m\u001b[0mempty_columns\u001b[0m\u001b[1;33m,\u001b[0m \u001b[0maxis\u001b[0m\u001b[1;33m=\u001b[0m\u001b[1;34m'columns'\u001b[0m\u001b[1;33m)\u001b[0m\u001b[1;33m\u001b[0m\u001b[1;33m\u001b[0m\u001b[0m\n\u001b[0m\u001b[0;32m      6\u001b[0m \u001b[0mloan\u001b[0m\u001b[1;33m.\u001b[0m\u001b[0mshape\u001b[0m\u001b[1;33m\u001b[0m\u001b[1;33m\u001b[0m\u001b[0m\n\u001b[0;32m      7\u001b[0m \u001b[0mprint\u001b[0m\u001b[1;33m(\u001b[0m\u001b[0mloan\u001b[0m\u001b[1;33m.\u001b[0m\u001b[0mhead\u001b[0m\u001b[1;33m(\u001b[0m\u001b[1;36m5\u001b[0m\u001b[1;33m)\u001b[0m\u001b[1;33m)\u001b[0m\u001b[1;33m\u001b[0m\u001b[1;33m\u001b[0m\u001b[0m\n",
      "\u001b[1;32m~\\Anaconda3\\lib\\site-packages\\pandas\\core\\frame.py\u001b[0m in \u001b[0;36mdrop\u001b[1;34m(self, labels, axis, index, columns, level, inplace, errors)\u001b[0m\n\u001b[0;32m   3695\u001b[0m                                            \u001b[0mindex\u001b[0m\u001b[1;33m=\u001b[0m\u001b[0mindex\u001b[0m\u001b[1;33m,\u001b[0m \u001b[0mcolumns\u001b[0m\u001b[1;33m=\u001b[0m\u001b[0mcolumns\u001b[0m\u001b[1;33m,\u001b[0m\u001b[1;33m\u001b[0m\u001b[1;33m\u001b[0m\u001b[0m\n\u001b[0;32m   3696\u001b[0m                                            \u001b[0mlevel\u001b[0m\u001b[1;33m=\u001b[0m\u001b[0mlevel\u001b[0m\u001b[1;33m,\u001b[0m \u001b[0minplace\u001b[0m\u001b[1;33m=\u001b[0m\u001b[0minplace\u001b[0m\u001b[1;33m,\u001b[0m\u001b[1;33m\u001b[0m\u001b[1;33m\u001b[0m\u001b[0m\n\u001b[1;32m-> 3697\u001b[1;33m                                            errors=errors)\n\u001b[0m\u001b[0;32m   3698\u001b[0m \u001b[1;33m\u001b[0m\u001b[0m\n\u001b[0;32m   3699\u001b[0m     @rewrite_axis_style_signature('mapper', [('copy', True),\n",
      "\u001b[1;32m~\\Anaconda3\\lib\\site-packages\\pandas\\core\\generic.py\u001b[0m in \u001b[0;36mdrop\u001b[1;34m(self, labels, axis, index, columns, level, inplace, errors)\u001b[0m\n\u001b[0;32m   3109\u001b[0m         \u001b[1;32mfor\u001b[0m \u001b[0maxis\u001b[0m\u001b[1;33m,\u001b[0m \u001b[0mlabels\u001b[0m \u001b[1;32min\u001b[0m \u001b[0maxes\u001b[0m\u001b[1;33m.\u001b[0m\u001b[0mitems\u001b[0m\u001b[1;33m(\u001b[0m\u001b[1;33m)\u001b[0m\u001b[1;33m:\u001b[0m\u001b[1;33m\u001b[0m\u001b[1;33m\u001b[0m\u001b[0m\n\u001b[0;32m   3110\u001b[0m             \u001b[1;32mif\u001b[0m \u001b[0mlabels\u001b[0m \u001b[1;32mis\u001b[0m \u001b[1;32mnot\u001b[0m \u001b[1;32mNone\u001b[0m\u001b[1;33m:\u001b[0m\u001b[1;33m\u001b[0m\u001b[1;33m\u001b[0m\u001b[0m\n\u001b[1;32m-> 3111\u001b[1;33m                 \u001b[0mobj\u001b[0m \u001b[1;33m=\u001b[0m \u001b[0mobj\u001b[0m\u001b[1;33m.\u001b[0m\u001b[0m_drop_axis\u001b[0m\u001b[1;33m(\u001b[0m\u001b[0mlabels\u001b[0m\u001b[1;33m,\u001b[0m \u001b[0maxis\u001b[0m\u001b[1;33m,\u001b[0m \u001b[0mlevel\u001b[0m\u001b[1;33m=\u001b[0m\u001b[0mlevel\u001b[0m\u001b[1;33m,\u001b[0m \u001b[0merrors\u001b[0m\u001b[1;33m=\u001b[0m\u001b[0merrors\u001b[0m\u001b[1;33m)\u001b[0m\u001b[1;33m\u001b[0m\u001b[1;33m\u001b[0m\u001b[0m\n\u001b[0m\u001b[0;32m   3112\u001b[0m \u001b[1;33m\u001b[0m\u001b[0m\n\u001b[0;32m   3113\u001b[0m         \u001b[1;32mif\u001b[0m \u001b[0minplace\u001b[0m\u001b[1;33m:\u001b[0m\u001b[1;33m\u001b[0m\u001b[1;33m\u001b[0m\u001b[0m\n",
      "\u001b[1;32m~\\Anaconda3\\lib\\site-packages\\pandas\\core\\generic.py\u001b[0m in \u001b[0;36m_drop_axis\u001b[1;34m(self, labels, axis, level, errors)\u001b[0m\n\u001b[0;32m   3141\u001b[0m                 \u001b[0mnew_axis\u001b[0m \u001b[1;33m=\u001b[0m \u001b[0maxis\u001b[0m\u001b[1;33m.\u001b[0m\u001b[0mdrop\u001b[0m\u001b[1;33m(\u001b[0m\u001b[0mlabels\u001b[0m\u001b[1;33m,\u001b[0m \u001b[0mlevel\u001b[0m\u001b[1;33m=\u001b[0m\u001b[0mlevel\u001b[0m\u001b[1;33m,\u001b[0m \u001b[0merrors\u001b[0m\u001b[1;33m=\u001b[0m\u001b[0merrors\u001b[0m\u001b[1;33m)\u001b[0m\u001b[1;33m\u001b[0m\u001b[1;33m\u001b[0m\u001b[0m\n\u001b[0;32m   3142\u001b[0m             \u001b[1;32melse\u001b[0m\u001b[1;33m:\u001b[0m\u001b[1;33m\u001b[0m\u001b[1;33m\u001b[0m\u001b[0m\n\u001b[1;32m-> 3143\u001b[1;33m                 \u001b[0mnew_axis\u001b[0m \u001b[1;33m=\u001b[0m \u001b[0maxis\u001b[0m\u001b[1;33m.\u001b[0m\u001b[0mdrop\u001b[0m\u001b[1;33m(\u001b[0m\u001b[0mlabels\u001b[0m\u001b[1;33m,\u001b[0m \u001b[0merrors\u001b[0m\u001b[1;33m=\u001b[0m\u001b[0merrors\u001b[0m\u001b[1;33m)\u001b[0m\u001b[1;33m\u001b[0m\u001b[1;33m\u001b[0m\u001b[0m\n\u001b[0m\u001b[0;32m   3144\u001b[0m             \u001b[0mresult\u001b[0m \u001b[1;33m=\u001b[0m \u001b[0mself\u001b[0m\u001b[1;33m.\u001b[0m\u001b[0mreindex\u001b[0m\u001b[1;33m(\u001b[0m\u001b[1;33m**\u001b[0m\u001b[1;33m{\u001b[0m\u001b[0maxis_name\u001b[0m\u001b[1;33m:\u001b[0m \u001b[0mnew_axis\u001b[0m\u001b[1;33m}\u001b[0m\u001b[1;33m)\u001b[0m\u001b[1;33m\u001b[0m\u001b[1;33m\u001b[0m\u001b[0m\n\u001b[0;32m   3145\u001b[0m \u001b[1;33m\u001b[0m\u001b[0m\n",
      "\u001b[1;32m~\\Anaconda3\\lib\\site-packages\\pandas\\core\\indexes\\base.py\u001b[0m in \u001b[0;36mdrop\u001b[1;34m(self, labels, errors)\u001b[0m\n\u001b[0;32m   4402\u001b[0m             \u001b[1;32mif\u001b[0m \u001b[0merrors\u001b[0m \u001b[1;33m!=\u001b[0m \u001b[1;34m'ignore'\u001b[0m\u001b[1;33m:\u001b[0m\u001b[1;33m\u001b[0m\u001b[1;33m\u001b[0m\u001b[0m\n\u001b[0;32m   4403\u001b[0m                 raise KeyError(\n\u001b[1;32m-> 4404\u001b[1;33m                     '{} not found in axis'.format(labels[mask]))\n\u001b[0m\u001b[0;32m   4405\u001b[0m             \u001b[0mindexer\u001b[0m \u001b[1;33m=\u001b[0m \u001b[0mindexer\u001b[0m\u001b[1;33m[\u001b[0m\u001b[1;33m~\u001b[0m\u001b[0mmask\u001b[0m\u001b[1;33m]\u001b[0m\u001b[1;33m\u001b[0m\u001b[1;33m\u001b[0m\u001b[0m\n\u001b[0;32m   4406\u001b[0m         \u001b[1;32mreturn\u001b[0m \u001b[0mself\u001b[0m\u001b[1;33m.\u001b[0m\u001b[0mdelete\u001b[0m\u001b[1;33m(\u001b[0m\u001b[0mindexer\u001b[0m\u001b[1;33m)\u001b[0m\u001b[1;33m\u001b[0m\u001b[1;33m\u001b[0m\u001b[0m\n",
      "\u001b[1;31mKeyError\u001b[0m: \"['collections_12_mths_ex_med' 'acc_now_delinq' 'chargeoff_within_12_mths'\\n 'delinq_amnt' 'tax_liens' 'initial_list_status' 'application_type'] not found in axis\""
     ]
    }
   ],
   "source": [
    "# The following columns only have 0s in them\n",
    "# cols initial_list_status, application_type have only one value\n",
    "empty_columns = ['collections_12_mths_ex_med', 'acc_now_delinq', 'chargeoff_within_12_mths', \n",
    "                 'delinq_amnt', 'tax_liens', 'initial_list_status', 'application_type']\n",
    "loan = loan.drop(empty_columns, axis='columns')\n",
    "loan.shape"
   ]
  },
  {
   "cell_type": "code",
   "execution_count": 13,
   "metadata": {
    "colab": {},
    "colab_type": "code",
    "id": "jAF2YBBxw2Xb",
    "outputId": "2f44378d-e7da-4fb0-bb05-be9b609f3bb8"
   },
   "outputs": [
    {
     "data": {
      "text/plain": [
       "(39717, 40)"
      ]
     },
     "execution_count": 13,
     "metadata": {},
     "output_type": "execute_result"
    }
   ],
   "source": [
    "# The following fields will have entries only when the loan is\n",
    "# defaulted, so removing them\n",
    "# Some columns like 'next_pymnt_d' is applicable only to 'current'\n",
    "# loan_status\n",
    "irrel_columns = ['recoveries', 'collection_recovery_fee', 'out_prncp', 'out_prncp_inv', \n",
    "                 'total_pymnt', 'total_pymnt_inv', 'total_rec_prncp', 'total_rec_int',\n",
    "                 'next_pymnt_d', 'url']\n",
    "loan = loan.drop(irrel_columns, axis='columns')\n",
    "loan.shape"
   ]
  },
  {
   "cell_type": "code",
   "execution_count": 14,
   "metadata": {
    "colab": {},
    "colab_type": "code",
    "id": "2vAIxU2Jw2Xf",
    "outputId": "a12b8875-5678-41f4-b206-ebcdc970aa94"
   },
   "outputs": [
    {
     "data": {
      "text/plain": [
       "(38577, 40)"
      ]
     },
     "execution_count": 14,
     "metadata": {},
     "output_type": "execute_result"
    }
   ],
   "source": [
    "# Removing 'Current' rows from the dataset since it is not possible to know \n",
    "# if they will default in the future\n",
    "loan = loan[~(loan['loan_status'] == 'Current')]\n",
    "loan.shape"
   ]
  },
  {
   "cell_type": "code",
   "execution_count": 15,
   "metadata": {
    "colab": {},
    "colab_type": "code",
    "id": "aAp08GwUw2Xj",
    "outputId": "e777e195-3b15-453d-c9f1-05f19df694a0"
   },
   "outputs": [
    {
     "data": {
      "text/plain": [
       "(38577, 39)"
      ]
     },
     "execution_count": 15,
     "metadata": {},
     "output_type": "execute_result"
    }
   ],
   "source": [
    "# Also dropping member_id, since there are no repeating members\n",
    "# and id will play the primary key\n",
    "loan = loan.drop('member_id', axis='columns')\n",
    "loan.shape"
   ]
  },
  {
   "cell_type": "code",
   "execution_count": 16,
   "metadata": {},
   "outputs": [
    {
     "name": "stdout",
     "output_type": "stream",
     "text": [
      "Index(['id', 'loan_amnt', 'funded_amnt', 'funded_amnt_inv', 'term', 'int_rate',\n",
      "       'installment', 'grade', 'sub_grade', 'emp_title', 'emp_length',\n",
      "       'home_ownership', 'annual_inc', 'verification_status', 'issue_d',\n",
      "       'loan_status', 'pymnt_plan', 'desc', 'purpose', 'title', 'zip_code',\n",
      "       'addr_state', 'dti', 'delinq_2yrs', 'earliest_cr_line',\n",
      "       'inq_last_6mths', 'mths_since_last_delinq', 'mths_since_last_record',\n",
      "       'open_acc', 'pub_rec', 'revol_bal', 'revol_util', 'total_acc',\n",
      "       'total_rec_late_fee', 'last_pymnt_d', 'last_pymnt_amnt',\n",
      "       'last_credit_pull_d', 'policy_code', 'pub_rec_bankruptcies'],\n",
      "      dtype='object')\n"
     ]
    }
   ],
   "source": [
    "print(loan.columns)"
   ]
  },
  {
   "cell_type": "markdown",
   "metadata": {
    "colab_type": "text",
    "id": "XhMMoM_rw2Xq"
   },
   "source": [
    "# Type conversions"
   ]
  },
  {
   "cell_type": "code",
   "execution_count": 0,
   "metadata": {
    "colab": {},
    "colab_type": "code",
    "id": "AO88U24yw2Xs",
    "outputId": "926f1df0-c709-4026-905b-d00b0652116e"
   },
   "outputs": [
    {
     "data": {
      "text/plain": [
       "dtype('float64')"
      ]
     },
     "execution_count": 9,
     "metadata": {
      "tags": []
     },
     "output_type": "execute_result"
    }
   ],
   "source": [
    "# Converting int_rate to integer\n",
    "loan['int_rate'] = pd.to_numeric(loan['int_rate'].str[:-1])\n",
    "loan['int_rate'].dtype"
   ]
  },
  {
   "cell_type": "code",
   "execution_count": 0,
   "metadata": {
    "colab": {},
    "colab_type": "code",
    "id": "Z9Soo88cw2X0",
    "outputId": "341d669f-b70d-41d2-d6db-03759e17ad2e"
   },
   "outputs": [
    {
     "data": {
      "text/plain": [
       "issue_d               datetime64[ns]\n",
       "earliest_cr_line      datetime64[ns]\n",
       "last_pymnt_d          datetime64[ns]\n",
       "last_credit_pull_d    datetime64[ns]\n",
       "dtype: object"
      ]
     },
     "execution_count": 10,
     "metadata": {
      "tags": []
     },
     "output_type": "execute_result"
    }
   ],
   "source": [
    "# Parsing all datetime columns\n",
    "date_columns = ['issue_d', 'earliest_cr_line', 'last_pymnt_d', 'last_credit_pull_d']\n",
    "loan[date_columns] = loan[date_columns].apply(pd.to_datetime, format=\"%b-%y\")\n",
    "loan[date_columns].dtypes"
   ]
  },
  {
   "cell_type": "code",
   "execution_count": 0,
   "metadata": {
    "colab": {},
    "colab_type": "code",
    "id": "6RzROwaTw2X8",
    "outputId": "4d74143a-fbfc-42c8-e3d9-6a22770e26fd"
   },
   "outputs": [
    {
     "data": {
      "text/plain": [
       "grade                  category\n",
       "sub_grade              category\n",
       "emp_length             category\n",
       "home_ownership         category\n",
       "verification_status    category\n",
       "loan_status            category\n",
       "pymnt_plan             category\n",
       "purpose                category\n",
       "zip_code               category\n",
       "addr_state             category\n",
       "dtype: object"
      ]
     },
     "execution_count": 11,
     "metadata": {
      "tags": []
     },
     "output_type": "execute_result"
    }
   ],
   "source": [
    "# list of categorical columns\n",
    "cat_columns = ['grade', 'sub_grade', 'emp_length', 'home_ownership',\n",
    "              'verification_status', 'loan_status', 'pymnt_plan',\n",
    "              'purpose', 'zip_code', 'addr_state']\n",
    "loan[cat_columns] = loan[cat_columns].apply(lambda x: x.astype('category'))\n",
    "loan[cat_columns].dtypes"
   ]
  },
  {
   "cell_type": "code",
   "execution_count": 19,
   "metadata": {},
   "outputs": [
    {
     "data": {
      "text/html": [
       "<div>\n",
       "<style scoped>\n",
       "    .dataframe tbody tr th:only-of-type {\n",
       "        vertical-align: middle;\n",
       "    }\n",
       "\n",
       "    .dataframe tbody tr th {\n",
       "        vertical-align: top;\n",
       "    }\n",
       "\n",
       "    .dataframe thead th {\n",
       "        text-align: right;\n",
       "    }\n",
       "</style>\n",
       "<table border=\"1\" class=\"dataframe\">\n",
       "  <thead>\n",
       "    <tr style=\"text-align: right;\">\n",
       "      <th></th>\n",
       "      <th>id</th>\n",
       "      <th>loan_amnt</th>\n",
       "      <th>funded_amnt</th>\n",
       "      <th>funded_amnt_inv</th>\n",
       "      <th>installment</th>\n",
       "      <th>annual_inc</th>\n",
       "      <th>dti</th>\n",
       "      <th>delinq_2yrs</th>\n",
       "      <th>inq_last_6mths</th>\n",
       "      <th>mths_since_last_delinq</th>\n",
       "      <th>mths_since_last_record</th>\n",
       "      <th>open_acc</th>\n",
       "      <th>pub_rec</th>\n",
       "      <th>revol_bal</th>\n",
       "      <th>total_acc</th>\n",
       "      <th>total_rec_late_fee</th>\n",
       "      <th>last_pymnt_amnt</th>\n",
       "      <th>policy_code</th>\n",
       "      <th>pub_rec_bankruptcies</th>\n",
       "    </tr>\n",
       "  </thead>\n",
       "  <tbody>\n",
       "    <tr>\n",
       "      <th>count</th>\n",
       "      <td>3.857700e+04</td>\n",
       "      <td>38577.000000</td>\n",
       "      <td>38577.000000</td>\n",
       "      <td>38577.000000</td>\n",
       "      <td>38577.000000</td>\n",
       "      <td>3.857700e+04</td>\n",
       "      <td>38577.000000</td>\n",
       "      <td>38577.000000</td>\n",
       "      <td>38577.000000</td>\n",
       "      <td>13672.000000</td>\n",
       "      <td>2740.000000</td>\n",
       "      <td>38577.000000</td>\n",
       "      <td>38577.000000</td>\n",
       "      <td>38577.000000</td>\n",
       "      <td>38577.000000</td>\n",
       "      <td>38577.000000</td>\n",
       "      <td>38577.000000</td>\n",
       "      <td>38577.0</td>\n",
       "      <td>37880.000000</td>\n",
       "    </tr>\n",
       "    <tr>\n",
       "      <th>mean</th>\n",
       "      <td>6.763787e+05</td>\n",
       "      <td>11047.025430</td>\n",
       "      <td>10784.058506</td>\n",
       "      <td>10222.481123</td>\n",
       "      <td>322.466318</td>\n",
       "      <td>6.877797e+04</td>\n",
       "      <td>13.272727</td>\n",
       "      <td>0.146668</td>\n",
       "      <td>0.871737</td>\n",
       "      <td>35.882534</td>\n",
       "      <td>69.260949</td>\n",
       "      <td>9.275423</td>\n",
       "      <td>0.055422</td>\n",
       "      <td>13289.489826</td>\n",
       "      <td>22.052648</td>\n",
       "      <td>1.368634</td>\n",
       "      <td>2746.243218</td>\n",
       "      <td>1.0</td>\n",
       "      <td>0.043479</td>\n",
       "    </tr>\n",
       "    <tr>\n",
       "      <th>std</th>\n",
       "      <td>2.092639e+05</td>\n",
       "      <td>7348.441646</td>\n",
       "      <td>7090.306027</td>\n",
       "      <td>7022.720644</td>\n",
       "      <td>208.639215</td>\n",
       "      <td>6.421868e+04</td>\n",
       "      <td>6.673044</td>\n",
       "      <td>0.492271</td>\n",
       "      <td>1.071546</td>\n",
       "      <td>22.028093</td>\n",
       "      <td>43.987761</td>\n",
       "      <td>4.401588</td>\n",
       "      <td>0.237804</td>\n",
       "      <td>15866.492241</td>\n",
       "      <td>11.425861</td>\n",
       "      <td>7.315880</td>\n",
       "      <td>4494.648131</td>\n",
       "      <td>0.0</td>\n",
       "      <td>0.204583</td>\n",
       "    </tr>\n",
       "    <tr>\n",
       "      <th>min</th>\n",
       "      <td>5.473400e+04</td>\n",
       "      <td>500.000000</td>\n",
       "      <td>500.000000</td>\n",
       "      <td>0.000000</td>\n",
       "      <td>15.690000</td>\n",
       "      <td>4.000000e+03</td>\n",
       "      <td>0.000000</td>\n",
       "      <td>0.000000</td>\n",
       "      <td>0.000000</td>\n",
       "      <td>0.000000</td>\n",
       "      <td>0.000000</td>\n",
       "      <td>2.000000</td>\n",
       "      <td>0.000000</td>\n",
       "      <td>0.000000</td>\n",
       "      <td>2.000000</td>\n",
       "      <td>0.000000</td>\n",
       "      <td>0.000000</td>\n",
       "      <td>1.0</td>\n",
       "      <td>0.000000</td>\n",
       "    </tr>\n",
       "    <tr>\n",
       "      <th>5%</th>\n",
       "      <td>3.710014e+05</td>\n",
       "      <td>2400.000000</td>\n",
       "      <td>2400.000000</td>\n",
       "      <td>1800.000000</td>\n",
       "      <td>70.610000</td>\n",
       "      <td>2.400000e+04</td>\n",
       "      <td>2.100000</td>\n",
       "      <td>0.000000</td>\n",
       "      <td>0.000000</td>\n",
       "      <td>3.000000</td>\n",
       "      <td>0.000000</td>\n",
       "      <td>3.000000</td>\n",
       "      <td>0.000000</td>\n",
       "      <td>312.000000</td>\n",
       "      <td>7.000000</td>\n",
       "      <td>0.000000</td>\n",
       "      <td>41.756000</td>\n",
       "      <td>1.0</td>\n",
       "      <td>0.000000</td>\n",
       "    </tr>\n",
       "    <tr>\n",
       "      <th>25%</th>\n",
       "      <td>5.120330e+05</td>\n",
       "      <td>5300.000000</td>\n",
       "      <td>5200.000000</td>\n",
       "      <td>5000.000000</td>\n",
       "      <td>165.740000</td>\n",
       "      <td>4.000000e+04</td>\n",
       "      <td>8.130000</td>\n",
       "      <td>0.000000</td>\n",
       "      <td>0.000000</td>\n",
       "      <td>18.000000</td>\n",
       "      <td>19.750000</td>\n",
       "      <td>6.000000</td>\n",
       "      <td>0.000000</td>\n",
       "      <td>3650.000000</td>\n",
       "      <td>13.000000</td>\n",
       "      <td>0.000000</td>\n",
       "      <td>217.420000</td>\n",
       "      <td>1.0</td>\n",
       "      <td>0.000000</td>\n",
       "    </tr>\n",
       "    <tr>\n",
       "      <th>50%</th>\n",
       "      <td>6.564230e+05</td>\n",
       "      <td>9600.000000</td>\n",
       "      <td>9550.000000</td>\n",
       "      <td>8733.440000</td>\n",
       "      <td>277.860000</td>\n",
       "      <td>5.886800e+04</td>\n",
       "      <td>13.370000</td>\n",
       "      <td>0.000000</td>\n",
       "      <td>1.000000</td>\n",
       "      <td>34.000000</td>\n",
       "      <td>90.000000</td>\n",
       "      <td>9.000000</td>\n",
       "      <td>0.000000</td>\n",
       "      <td>8762.000000</td>\n",
       "      <td>20.000000</td>\n",
       "      <td>0.000000</td>\n",
       "      <td>568.260000</td>\n",
       "      <td>1.0</td>\n",
       "      <td>0.000000</td>\n",
       "    </tr>\n",
       "    <tr>\n",
       "      <th>70%</th>\n",
       "      <td>7.937528e+05</td>\n",
       "      <td>14000.000000</td>\n",
       "      <td>13000.000000</td>\n",
       "      <td>12150.000000</td>\n",
       "      <td>386.974000</td>\n",
       "      <td>7.500000e+04</td>\n",
       "      <td>17.430000</td>\n",
       "      <td>0.000000</td>\n",
       "      <td>1.000000</td>\n",
       "      <td>47.000000</td>\n",
       "      <td>101.000000</td>\n",
       "      <td>11.000000</td>\n",
       "      <td>0.000000</td>\n",
       "      <td>14729.400000</td>\n",
       "      <td>27.000000</td>\n",
       "      <td>0.000000</td>\n",
       "      <td>2518.128000</td>\n",
       "      <td>1.0</td>\n",
       "      <td>0.000000</td>\n",
       "    </tr>\n",
       "    <tr>\n",
       "      <th>95%</th>\n",
       "      <td>1.038337e+06</td>\n",
       "      <td>25000.000000</td>\n",
       "      <td>25000.000000</td>\n",
       "      <td>24500.066590</td>\n",
       "      <td>760.820000</td>\n",
       "      <td>1.400040e+05</td>\n",
       "      <td>23.800000</td>\n",
       "      <td>1.000000</td>\n",
       "      <td>3.000000</td>\n",
       "      <td>75.000000</td>\n",
       "      <td>115.000000</td>\n",
       "      <td>17.000000</td>\n",
       "      <td>1.000000</td>\n",
       "      <td>41356.200000</td>\n",
       "      <td>43.000000</td>\n",
       "      <td>14.930474</td>\n",
       "      <td>12370.088000</td>\n",
       "      <td>1.0</td>\n",
       "      <td>0.000000</td>\n",
       "    </tr>\n",
       "    <tr>\n",
       "      <th>max</th>\n",
       "      <td>1.077501e+06</td>\n",
       "      <td>35000.000000</td>\n",
       "      <td>35000.000000</td>\n",
       "      <td>35000.000000</td>\n",
       "      <td>1305.190000</td>\n",
       "      <td>6.000000e+06</td>\n",
       "      <td>29.990000</td>\n",
       "      <td>11.000000</td>\n",
       "      <td>8.000000</td>\n",
       "      <td>120.000000</td>\n",
       "      <td>129.000000</td>\n",
       "      <td>44.000000</td>\n",
       "      <td>4.000000</td>\n",
       "      <td>149588.000000</td>\n",
       "      <td>90.000000</td>\n",
       "      <td>180.200000</td>\n",
       "      <td>36115.200000</td>\n",
       "      <td>1.0</td>\n",
       "      <td>2.000000</td>\n",
       "    </tr>\n",
       "  </tbody>\n",
       "</table>\n",
       "</div>"
      ],
      "text/plain": [
       "                 id     loan_amnt   funded_amnt  funded_amnt_inv  \\\n",
       "count  3.857700e+04  38577.000000  38577.000000     38577.000000   \n",
       "mean   6.763787e+05  11047.025430  10784.058506     10222.481123   \n",
       "std    2.092639e+05   7348.441646   7090.306027      7022.720644   \n",
       "min    5.473400e+04    500.000000    500.000000         0.000000   \n",
       "5%     3.710014e+05   2400.000000   2400.000000      1800.000000   \n",
       "25%    5.120330e+05   5300.000000   5200.000000      5000.000000   \n",
       "50%    6.564230e+05   9600.000000   9550.000000      8733.440000   \n",
       "70%    7.937528e+05  14000.000000  13000.000000     12150.000000   \n",
       "95%    1.038337e+06  25000.000000  25000.000000     24500.066590   \n",
       "max    1.077501e+06  35000.000000  35000.000000     35000.000000   \n",
       "\n",
       "        installment    annual_inc           dti   delinq_2yrs  inq_last_6mths  \\\n",
       "count  38577.000000  3.857700e+04  38577.000000  38577.000000    38577.000000   \n",
       "mean     322.466318  6.877797e+04     13.272727      0.146668        0.871737   \n",
       "std      208.639215  6.421868e+04      6.673044      0.492271        1.071546   \n",
       "min       15.690000  4.000000e+03      0.000000      0.000000        0.000000   \n",
       "5%        70.610000  2.400000e+04      2.100000      0.000000        0.000000   \n",
       "25%      165.740000  4.000000e+04      8.130000      0.000000        0.000000   \n",
       "50%      277.860000  5.886800e+04     13.370000      0.000000        1.000000   \n",
       "70%      386.974000  7.500000e+04     17.430000      0.000000        1.000000   \n",
       "95%      760.820000  1.400040e+05     23.800000      1.000000        3.000000   \n",
       "max     1305.190000  6.000000e+06     29.990000     11.000000        8.000000   \n",
       "\n",
       "       mths_since_last_delinq  mths_since_last_record      open_acc  \\\n",
       "count            13672.000000             2740.000000  38577.000000   \n",
       "mean                35.882534               69.260949      9.275423   \n",
       "std                 22.028093               43.987761      4.401588   \n",
       "min                  0.000000                0.000000      2.000000   \n",
       "5%                   3.000000                0.000000      3.000000   \n",
       "25%                 18.000000               19.750000      6.000000   \n",
       "50%                 34.000000               90.000000      9.000000   \n",
       "70%                 47.000000              101.000000     11.000000   \n",
       "95%                 75.000000              115.000000     17.000000   \n",
       "max                120.000000              129.000000     44.000000   \n",
       "\n",
       "            pub_rec      revol_bal     total_acc  total_rec_late_fee  \\\n",
       "count  38577.000000   38577.000000  38577.000000        38577.000000   \n",
       "mean       0.055422   13289.489826     22.052648            1.368634   \n",
       "std        0.237804   15866.492241     11.425861            7.315880   \n",
       "min        0.000000       0.000000      2.000000            0.000000   \n",
       "5%         0.000000     312.000000      7.000000            0.000000   \n",
       "25%        0.000000    3650.000000     13.000000            0.000000   \n",
       "50%        0.000000    8762.000000     20.000000            0.000000   \n",
       "70%        0.000000   14729.400000     27.000000            0.000000   \n",
       "95%        1.000000   41356.200000     43.000000           14.930474   \n",
       "max        4.000000  149588.000000     90.000000          180.200000   \n",
       "\n",
       "       last_pymnt_amnt  policy_code  pub_rec_bankruptcies  \n",
       "count     38577.000000      38577.0          37880.000000  \n",
       "mean       2746.243218          1.0              0.043479  \n",
       "std        4494.648131          0.0              0.204583  \n",
       "min           0.000000          1.0              0.000000  \n",
       "5%           41.756000          1.0              0.000000  \n",
       "25%         217.420000          1.0              0.000000  \n",
       "50%         568.260000          1.0              0.000000  \n",
       "70%        2518.128000          1.0              0.000000  \n",
       "95%       12370.088000          1.0              0.000000  \n",
       "max       36115.200000          1.0              2.000000  "
      ]
     },
     "execution_count": 19,
     "metadata": {},
     "output_type": "execute_result"
    }
   ],
   "source": [
    "loan.describe(percentiles=[.05,.25,.70,.95])"
   ]
  },
  {
   "cell_type": "markdown",
   "metadata": {
    "colab_type": "text",
    "id": "zToUTmK7w2YD"
   },
   "source": [
    "# Derived columns creation"
   ]
  },
  {
   "cell_type": "markdown",
   "metadata": {
    "colab_type": "text",
    "id": "ELTx3fGmw2YE"
   },
   "source": [
    "# Imputation"
   ]
  },
  {
   "cell_type": "markdown",
   "metadata": {
    "colab_type": "text",
    "id": "VIZ8w984w2YG"
   },
   "source": [
    "# Univariate"
   ]
  },
  {
   "cell_type": "markdown",
   "metadata": {
    "colab_type": "text",
    "id": "s7PlTaTKw2YI"
   },
   "source": [
    "## Interest Rate"
   ]
  },
  {
   "cell_type": "code",
   "execution_count": 0,
   "metadata": {
    "colab": {},
    "colab_type": "code",
    "id": "kC9Qdw6Ew2YK",
    "outputId": "1becb1ec-f04c-4fab-ea5a-8bf779e211f2"
   },
   "outputs": [
    {
     "data": {
      "text/plain": [
       "count    38577.000000\n",
       "mean        11.932219\n",
       "std          3.691327\n",
       "min          5.420000\n",
       "25%          8.940000\n",
       "50%         11.710000\n",
       "75%         14.380000\n",
       "max         24.400000\n",
       "Name: int_rate, dtype: float64"
      ]
     },
     "execution_count": 12,
     "metadata": {
      "tags": []
     },
     "output_type": "execute_result"
    }
   ],
   "source": [
    "loan['int_rate'].describe()"
   ]
  },
  {
   "cell_type": "markdown",
   "metadata": {
    "colab_type": "text",
    "id": "gLZwHOh6w2YT"
   },
   "source": [
    "## Grade"
   ]
  },
  {
   "cell_type": "code",
   "execution_count": 0,
   "metadata": {
    "colab": {},
    "colab_type": "code",
    "id": "hFdPpirCw2YW",
    "outputId": "64d76e12-856d-4159-f190-bbf9198ea255"
   },
   "outputs": [
    {
     "data": {
      "text/plain": [
       "count     38577\n",
       "unique        7\n",
       "top           B\n",
       "freq      11675\n",
       "Name: grade, dtype: object"
      ]
     },
     "execution_count": 13,
     "metadata": {
      "tags": []
     },
     "output_type": "execute_result"
    }
   ],
   "source": [
    "# Grade has 7 levels wiht no NAs\n",
    "loan['grade'].describe()"
   ]
  },
  {
   "cell_type": "code",
   "execution_count": 0,
   "metadata": {
    "colab": {},
    "colab_type": "code",
    "id": "BoU0jAK7w2Ye",
    "outputId": "e8df8944-4cc8-4400-d3d4-3d0a4743a057"
   },
   "outputs": [
    {
     "data": {
      "image/png": "[encoded data removed]",
      "text/plain": [
       "<Figure size 432x288 with 1 Axes>"
      ]
     },
     "metadata": {
      "needs_background": "light",
      "tags": []
     },
     "output_type": "display_data"
    }
   ],
   "source": [
    "# loans for the grades are unequally distributed\n",
    "loan.groupby('grade')['id'].count().plot(kind='bar', color='blue')\n",
    "plt.title('Loan distribution across Grades')\n",
    "plt.show()"
   ]
  },
  {
   "cell_type": "markdown",
   "metadata": {
    "colab_type": "text",
    "id": "VZKSKyWcw2Yo"
   },
   "source": [
    "## Sub Grade"
   ]
  },
  {
   "cell_type": "code",
   "execution_count": 0,
   "metadata": {
    "colab": {},
    "colab_type": "code",
    "id": "gjgn_G-bw2Ys",
    "outputId": "eda56891-9a2b-4c71-d7ab-dd17d82365e4",
    "scrolled": true
   },
   "outputs": [
    {
     "data": {
      "text/plain": [
       "count     38577\n",
       "unique       35\n",
       "top          A4\n",
       "freq       2873\n",
       "Name: sub_grade, dtype: object"
      ]
     },
     "execution_count": 15,
     "metadata": {
      "tags": []
     },
     "output_type": "execute_result"
    }
   ],
   "source": [
    "# No NAs, 5 levels within each Grade\n",
    "loan['sub_grade'].describe()"
   ]
  },
  {
   "cell_type": "code",
   "execution_count": 17,
   "metadata": {},
   "outputs": [
    {
     "data": {
      "image/png": "[encoded data removed]",
      "text/plain": [
       "<Figure size 432x288 with 1 Axes>"
      ]
     },
     "metadata": {
      "needs_background": "light"
     },
     "output_type": "display_data"
    }
   ],
   "source": [
    "# loans for the grades are unequally distributed\n",
    "loan.groupby('sub_grade')['id'].count().plot(kind='bar', color='blue')\n",
    "plt.title('Loan distribution across Sub Grades')\n",
    "plt.show()"
   ]
  },
  {
   "cell_type": "markdown",
   "metadata": {
    "colab_type": "text",
    "id": "DsR-zbXLw2Y0"
   },
   "source": [
    "# Univariate Segmented"
   ]
  },
  {
   "cell_type": "markdown",
   "metadata": {
    "colab_type": "text",
    "id": "1GS09Vqlw2Y3"
   },
   "source": [
    "# Bivariate"
   ]
  },
  {
   "cell_type": "markdown",
   "metadata": {
    "colab_type": "text",
    "id": "d13-WZsRw2Y6"
   },
   "source": [
    "## Interest Rate vs Loan Status\n",
    "**Hypothesis:** Charged Off loans will have higher interest rates than Paid Off loans"
   ]
  },
  {
   "cell_type": "code",
   "execution_count": 0,
   "metadata": {
    "colab": {},
    "colab_type": "code",
    "id": "NZm4vLxxw2Y9",
    "outputId": "edef2026-15f6-4ee3-ba11-b7a728bcfffb"
   },
   "outputs": [
    {
     "data": {
      "image/png": "[encoded data removed]",
      "text/plain": [
       "<Figure size 576x360 with 1 Axes>"
      ]
     },
     "metadata": {
      "needs_background": "light",
      "tags": []
     },
     "output_type": "display_data"
    }
   ],
   "source": [
    "interest_status = loan[loan['loan_status'] == 'Charged Off']['int_rate']\n",
    "interest_status.hist(alpha=0.5, density=True, figsize=(8, 5), color='red')\n",
    "interest_status = loan[loan['loan_status'] == 'Fully Paid']['int_rate']\n",
    "interest_status.hist(alpha=0.5, density=True, figsize=(8, 5), color='green')\n",
    "plt.title('Distribution of interest rates for Charged Off loans')\n",
    "plt.legend(('Charged Off', 'Fully Paid'))\n",
    "plt.show()"
   ]
  },
  {
   "cell_type": "markdown",
   "metadata": {
    "colab_type": "text",
    "id": "qpuA7y52w2ZN"
   },
   "source": [
    "## Grade vs Loan Status\n",
    "**Hypothesis:** For lower grades the risk of default is higher"
   ]
  },
  {
   "cell_type": "code",
   "execution_count": 0,
   "metadata": {
    "colab": {},
    "colab_type": "code",
    "id": "EiYU5fAXw2ZQ",
    "outputId": "ff32c1f7-0b20-46a9-f640-22e10307803b"
   },
   "outputs": [
    {
     "data": {
      "image/png": "[encoded data removed]",
      "text/plain": [
       "<Figure size 720x360 with 1 Axes>"
      ]
     },
     "metadata": {
      "needs_background": "light",
      "tags": []
     },
     "output_type": "display_data"
    }
   ],
   "source": [
    "# Calculating the number of loan_status' across different grades\n",
    "status_grade = loan.groupby(['grade', 'loan_status'])['id'].count().reset_index()\n",
    "status_grade = status_grade.pivot_table(index='grade', columns='loan_status', values='id')\n",
    "# Preparation to create the stacked bar plot\n",
    "total = status_grade['Fully Paid']+status_grade['Charged Off']\n",
    "status_grade['Fully Paid'] = status_grade['Fully Paid']/total\n",
    "status_grade['Charged Off'] = status_grade['Charged Off']/total\n",
    "plt.figure(figsize=(10,5))\n",
    "status_grade['Fully Paid'].plot(kind='bar', color='green', label='Fully Paid')\n",
    "status_grade['Charged Off'].plot(kind='bar', bottom=status_grade['Fully Paid'], color='red', label='Charged Off')\n",
    "plt.legend(loc='upper right', bbox_to_anchor=(1.20,1))\n",
    "plt.title('Percent of Charged Off loans increase as the Grade deteriorates')\n",
    "plt.show()"
   ]
  },
  {
   "cell_type": "markdown",
   "metadata": {
    "colab_type": "text",
    "id": "2kSyx7PTw2ZZ"
   },
   "source": [
    "## Sub Grade vs Loan Status\n",
    "**Hypothesis:** Within each grade the risk of default increases with increasing levels"
   ]
  },
  {
   "cell_type": "markdown",
   "metadata": {
    "colab_type": "text",
    "id": "UTrfRD-Hw2Ze"
   },
   "source": [
    "### Charged Off loans count across Sub Grades"
   ]
  },
  {
   "cell_type": "code",
   "execution_count": 0,
   "metadata": {
    "colab": {},
    "colab_type": "code",
    "id": "ULRbq7CHw2Zg",
    "outputId": "00320167-ce7b-4e41-9dce-f6da0539b531"
   },
   "outputs": [
    {
     "data": {
      "image/png": "[encoded data removed]",
      "text/plain": [
       "<Figure size 1440x1440 with 16 Axes>"
      ]
     },
     "metadata": {
      "needs_background": "light",
      "tags": []
     },
     "output_type": "display_data"
    }
   ],
   "source": [
    "# Filtering only Charged Off rows and counting them across different sub grades\n",
    "status_sub_grade = loan[loan['loan_status'] == 'Charged Off'].groupby('sub_grade')['id'].count().reset_index()\n",
    "# Preparation for plot\n",
    "status_sub_grade['grade'] = status_sub_grade['sub_grade'].str[0]\n",
    "status_sub_grade['level'] = status_sub_grade['sub_grade'].str[1]\n",
    "status_sub_grade = status_sub_grade.pivot_table(index='level', columns='grade', values='id')\n",
    "status_sub_grade.plot(kind='bar', subplots=True, layout=(4, 4), figsize=(20, 20), legend=False)\n",
    "# plt.title('Charged Off loans count across different levels within each Grade')\n",
    "plt.show()"
   ]
  },
  {
   "cell_type": "markdown",
   "metadata": {
    "colab_type": "text",
    "id": "9h182uoTw2Zq"
   },
   "source": [
    "### Fully Paid loans count across Sub Grades"
   ]
  },
  {
   "cell_type": "code",
   "execution_count": 0,
   "metadata": {
    "colab": {},
    "colab_type": "code",
    "id": "W4WHidLRw2Zt",
    "outputId": "5fc8cf1c-1fa7-4a2f-dccd-4bf5b75054fc"
   },
   "outputs": [
    {
     "data": {
      "image/png": "[encoded data removed]",
      "text/plain": [
       "<Figure size 1440x1440 with 16 Axes>"
      ]
     },
     "metadata": {
      "needs_background": "light",
      "tags": []
     },
     "output_type": "display_data"
    }
   ],
   "source": [
    "# Filtering only Charged Off rows and counting them across different sub grades\n",
    "status_sub_grade = loan[loan['loan_status'] == 'Fully Paid'].groupby('sub_grade')['id'].count().reset_index()\n",
    "# Preparation for plot\n",
    "status_sub_grade['grade'] = status_sub_grade['sub_grade'].str[0]\n",
    "status_sub_grade['level'] = status_sub_grade['sub_grade'].str[1]\n",
    "status_sub_grade = status_sub_grade.pivot_table(index='level', columns='grade', values='id')\n",
    "status_sub_grade.plot(kind='bar', subplots=True, layout=(4, 4), figsize=(20, 20), legend=False)\n",
    "# plt.title('Charged Off loans count across different levels within each Grade')\n",
    "plt.show()"
   ]
  },
  {
   "cell_type": "markdown",
   "metadata": {
    "colab_type": "text",
    "id": "am80MM-8w2Z4"
   },
   "source": [
    "# home ownership vs loan status"
   ]
  },
  {
   "cell_type": "code",
   "execution_count": 27,
   "metadata": {
    "colab": {},
    "colab_type": "code",
    "id": "5qSu6wLOw2Z6"
   },
   "outputs": [
    {
     "data": {
      "image/png": "[encoded data removed]",
      "text/plain": [
       "<Figure size 720x360 with 1 Axes>"
      ]
     },
     "metadata": {
      "needs_background": "light"
     },
     "output_type": "display_data"
    }
   ],
   "source": [
    "# Calculating the number of loan_status' across different home_ownerships\n",
    "status_home_ownership = loan.groupby(['home_ownership', 'loan_status'])['id'].count().reset_index()\n",
    "status_home_ownership = status_home_ownership.pivot_table(index='home_ownership', columns='loan_status', values='id')\n",
    "# Preparation to create the stacked bar plot\n",
    "total = status_home_ownership['Fully Paid']+status_home_ownership['Charged Off']\n",
    "#status_home_ownership['Fully Paid'] = status_home_ownership['Fully Paid']/total\n",
    "#status_home_ownership['Charged Off'] = status_home_ownership['Charged Off']/total\n",
    "plt.figure(figsize=(10,5))\n",
    "status_home_ownership['Fully Paid'].plot(kind='bar', color='green', label='Fully Paid')\n",
    "status_home_ownership['Charged Off'].plot(kind='bar', bottom=status_home_ownership['Fully Paid'], color='red', label='Charged Off')\n",
    "plt.legend(loc='upper right', bbox_to_anchor=(1.20,1))\n",
    "plt.title('Percent of Charged Off loans increase as the home_ownership deteriorates')\n",
    "plt.show()"
   ]
  },
  {
   "cell_type": "code",
   "execution_count": 24,
   "metadata": {},
   "outputs": [
    {
     "data": {
      "text/html": [
       "<div>\n",
       "<style scoped>\n",
       "    .dataframe tbody tr th:only-of-type {\n",
       "        vertical-align: middle;\n",
       "    }\n",
       "\n",
       "    .dataframe tbody tr th {\n",
       "        vertical-align: top;\n",
       "    }\n",
       "\n",
       "    .dataframe thead th {\n",
       "        text-align: right;\n",
       "    }\n",
       "</style>\n",
       "<table border=\"1\" class=\"dataframe\">\n",
       "  <thead>\n",
       "    <tr style=\"text-align: right;\">\n",
       "      <th></th>\n",
       "      <th>grade</th>\n",
       "      <th>sub_grade</th>\n",
       "      <th>emp_length</th>\n",
       "      <th>home_ownership</th>\n",
       "      <th>verification_status</th>\n",
       "      <th>loan_status</th>\n",
       "      <th>pymnt_plan</th>\n",
       "      <th>purpose</th>\n",
       "      <th>zip_code</th>\n",
       "      <th>addr_state</th>\n",
       "    </tr>\n",
       "  </thead>\n",
       "  <tbody>\n",
       "    <tr>\n",
       "      <th>count</th>\n",
       "      <td>38577</td>\n",
       "      <td>38577</td>\n",
       "      <td>37544</td>\n",
       "      <td>38577</td>\n",
       "      <td>38577</td>\n",
       "      <td>38577</td>\n",
       "      <td>38577</td>\n",
       "      <td>38577</td>\n",
       "      <td>38577</td>\n",
       "      <td>38577</td>\n",
       "    </tr>\n",
       "    <tr>\n",
       "      <th>unique</th>\n",
       "      <td>7</td>\n",
       "      <td>35</td>\n",
       "      <td>11</td>\n",
       "      <td>5</td>\n",
       "      <td>3</td>\n",
       "      <td>2</td>\n",
       "      <td>1</td>\n",
       "      <td>14</td>\n",
       "      <td>822</td>\n",
       "      <td>50</td>\n",
       "    </tr>\n",
       "    <tr>\n",
       "      <th>top</th>\n",
       "      <td>B</td>\n",
       "      <td>A4</td>\n",
       "      <td>10+ years</td>\n",
       "      <td>RENT</td>\n",
       "      <td>Not Verified</td>\n",
       "      <td>Fully Paid</td>\n",
       "      <td>n</td>\n",
       "      <td>debt_consolidation</td>\n",
       "      <td>100xx</td>\n",
       "      <td>CA</td>\n",
       "    </tr>\n",
       "    <tr>\n",
       "      <th>freq</th>\n",
       "      <td>11675</td>\n",
       "      <td>2873</td>\n",
       "      <td>8488</td>\n",
       "      <td>18480</td>\n",
       "      <td>16694</td>\n",
       "      <td>32950</td>\n",
       "      <td>38577</td>\n",
       "      <td>18055</td>\n",
       "      <td>583</td>\n",
       "      <td>6949</td>\n",
       "    </tr>\n",
       "  </tbody>\n",
       "</table>\n",
       "</div>"
      ],
      "text/plain": [
       "        grade sub_grade emp_length home_ownership verification_status  \\\n",
       "count   38577     38577      37544          38577               38577   \n",
       "unique      7        35         11              5                   3   \n",
       "top         B        A4  10+ years           RENT        Not Verified   \n",
       "freq    11675      2873       8488          18480               16694   \n",
       "\n",
       "       loan_status pymnt_plan             purpose zip_code addr_state  \n",
       "count        38577      38577               38577    38577      38577  \n",
       "unique           2          1                  14      822         50  \n",
       "top     Fully Paid          n  debt_consolidation    100xx         CA  \n",
       "freq         32950      38577               18055      583       6949  "
      ]
     },
     "execution_count": 24,
     "metadata": {},
     "output_type": "execute_result"
    }
   ],
   "source": [
    "cat_columns = ['grade', 'sub_grade', 'emp_length', 'home_ownership',\n",
    "              'verification_status', 'loan_status', 'pymnt_plan',\n",
    "              'purpose', 'zip_code', 'addr_state']\n",
    "loan[cat_columns].describe()"
   ]
  },
  {
   "cell_type": "code",
   "execution_count": 31,
   "metadata": {},
   "outputs": [
    {
     "name": "stdout",
     "output_type": "stream",
     "text": [
      "loan_status          Charged Off  Fully Paid\n",
      "verification_status                         \n",
      "Not Verified                2142       14552\n",
      "Source Verified             1434        8243\n",
      "Verified                    2051       10155\n"
     ]
    }
   ],
   "source": [
    "# Calculating the number of loan_status' across different verification_statuss\n",
    "status_verification_status = loan.groupby(['verification_status', 'loan_status'])['id'].count().reset_index()\n",
    "status_verification_status = status_verification_status.pivot_table(index='verification_status', columns='loan_status', values='id')\n",
    "print(status_verification_status)\n",
    "# Preparation to create the stacked bar plot\n",
    "#total = status_verification_status['Fully Paid']+status_verification_status['Charged Off']\n",
    "#status_verification_status['Fully Paid'] = status_verification_status['Fully Paid']/total\n",
    "#status_verification_status['Charged Off'] = status_verification_status['Charged Off']/total\n",
    "#plt.figure(figsize=(10,5))\n",
    "#status_verification_status['Fully Paid'].plot(kind='bar', color='green', label='Fully Paid')\n",
    "#status_verification_status['Charged Off'].plot(kind='bar', bottom=status_verification_status['Fully Paid'], color='red', label='Charged Off')\n",
    "#plt.legend(loc='upper right', bbox_to_anchor=(1.20,1))\n",
    "#plt.title('Percent of Charged Off loans increase as the verification_status deteriorates')\n",
    "#plt.show()"
   ]
  },
  {
   "cell_type": "code",
   "execution_count": 30,
   "metadata": {},
   "outputs": [
    {
     "name": "stdout",
     "output_type": "stream",
     "text": [
      "loan_status         Charged Off  Fully Paid\n",
      "purpose                                    \n",
      "car                         160        1339\n",
      "credit_card                 542        4485\n",
      "debt_consolidation         2767       15288\n",
      "educational                  56         269\n",
      "home_improvement            347        2528\n",
      "house                        59         308\n",
      "major_purchase              222        1928\n",
      "medical                     106         575\n",
      "moving                       92         484\n",
      "other                       633        3232\n",
      "renewable_energy             19          83\n",
      "small_business              475        1279\n",
      "vacation                     53         322\n",
      "wedding                      96         830\n"
     ]
    }
   ],
   "source": [
    "# Calculating the number of loan_status' across different purposes\n",
    "status_purpose = loan.groupby(['purpose', 'loan_status'])['id'].count().reset_index()\n",
    "status_purpose = status_purpose.pivot_table(index='purpose', columns='loan_status', values='id')\n",
    "print(status_purpose)\n",
    "# Preparation to create the stacked bar plot\n",
    "#total = status_purpose['Fully Paid']+status_purpose['Charged Off']\n",
    "#status_purpose['Fully Paid'] = status_purpose['Fully Paid']/total\n",
    "#status_purpose['Charged Off'] = status_purpose['Charged Off']/total\n",
    "#plt.figure(figsize=(10,5))\n",
    "#status_purpose['Fully Paid'].plot(kind='bar', color='green', label='Fully Paid')\n",
    "#status_purpose['Charged Off'].plot(kind='bar', bottom=status_purpose['Fully Paid'], color='red', label='Charged Off')\n",
    "#plt.legend(loc='upper right', bbox_to_anchor=(1.20,1))\n",
    "#plt.title('Percent of Charged Off loans increase as the purpose deteriorates')\n",
    "#plt.show()"
   ]
  },
  {
   "cell_type": "code",
   "execution_count": 32,
   "metadata": {},
   "outputs": [
    {
     "data": {
      "text/plain": [
       "count    37880.000000\n",
       "mean         0.043479\n",
       "std          0.204583\n",
       "min          0.000000\n",
       "25%          0.000000\n",
       "50%          0.000000\n",
       "75%          0.000000\n",
       "max          2.000000\n",
       "Name: pub_rec_bankruptcies, dtype: float64"
      ]
     },
     "execution_count": 32,
     "metadata": {},
     "output_type": "execute_result"
    }
   ],
   "source": [
    "loan.pub_rec_bankruptcies.describe()"
   ]
  },
  {
   "cell_type": "code",
   "execution_count": 33,
   "metadata": {},
   "outputs": [
    {
     "name": "stdout",
     "output_type": "stream",
     "text": [
      "loan_status           Charged Off  Fully Paid\n",
      "pub_rec_bankruptcies                         \n",
      "0.0                          5141       31097\n",
      "1.0                           366        1271\n",
      "2.0                             2           3\n"
     ]
    }
   ],
   "source": [
    "status_purpose = loan.groupby(['pub_rec_bankruptcies', 'loan_status'])['id'].count().reset_index()\n",
    "status_purpose = status_purpose.pivot_table(index='pub_rec_bankruptcies', columns='loan_status', values='id')\n",
    "print(status_purpose)"
   ]
  },
  {
   "cell_type": "code",
   "execution_count": 67,
   "metadata": {},
   "outputs": [
    {
     "name": "stdout",
     "output_type": "stream",
     "text": [
      "0         24000.00\n",
      "1         30000.00\n",
      "2         12252.00\n",
      "3         49200.00\n",
      "5         36000.00\n",
      "6         47004.00\n",
      "7         48000.00\n",
      "8         40000.00\n",
      "9         15000.00\n",
      "10        72000.00\n",
      "11        75000.00\n",
      "12        30000.00\n",
      "13        15000.00\n",
      "14       100000.00\n",
      "15        28000.00\n",
      "16        42000.00\n",
      "17       110000.00\n",
      "18        84000.00\n",
      "19        77385.19\n",
      "20        43370.00\n",
      "21       105000.00\n",
      "22        50000.00\n",
      "23        50000.00\n",
      "24        76000.00\n",
      "25        92000.00\n",
      "26        60000.00\n",
      "27        50004.00\n",
      "28       106000.00\n",
      "29        25000.00\n",
      "30        17108.00\n",
      "           ...    \n",
      "39687     75000.00\n",
      "39688    145000.00\n",
      "39689     20000.00\n",
      "39690     60000.00\n",
      "39691     52200.00\n",
      "39692    250000.00\n",
      "39693     13500.00\n",
      "39694    150000.00\n",
      "39695     95000.00\n",
      "39696     48000.00\n",
      "39697     27376.00\n",
      "39698     73000.00\n",
      "39699     32000.00\n",
      "39700      8000.00\n",
      "39701     74000.00\n",
      "39702     30000.00\n",
      "39703    200000.00\n",
      "39704     25000.00\n",
      "39705    120000.00\n",
      "39706    180000.00\n",
      "39707    180000.00\n",
      "39708     48000.00\n",
      "39709     80000.00\n",
      "39710     85000.00\n",
      "39711     75000.00\n",
      "39712    110000.00\n",
      "39713     18000.00\n",
      "39714    100000.00\n",
      "39715    200000.00\n",
      "39716     22000.00\n",
      "Name: annual_inc, Length: 38577, dtype: float64\n"
     ]
    }
   ],
   "source": [
    "#loan.drop(loan.index[0])\n",
    "print(loan['annual_inc'])"
   ]
  },
  {
   "cell_type": "code",
   "execution_count": null,
   "metadata": {},
   "outputs": [],
   "source": []
  },
  {
   "cell_type": "code",
   "execution_count": 59,
   "metadata": {},
   "outputs": [
    {
     "data": {
      "text/plain": [
       "count    3.857700e+04\n",
       "mean     6.877797e+04\n",
       "std      6.421868e+04\n",
       "min      4.000000e+03\n",
       "25%      4.000000e+04\n",
       "50%      5.886800e+04\n",
       "75%      8.200000e+04\n",
       "max      6.000000e+06\n",
       "Name: annual_inc, dtype: float64"
      ]
     },
     "execution_count": 59,
     "metadata": {},
     "output_type": "execute_result"
    }
   ],
   "source": [
    "loan['annual_inc'].describe()"
   ]
  },
  {
   "cell_type": "code",
   "execution_count": 83,
   "metadata": {},
   "outputs": [],
   "source": [
    "#Bracket for annual income\n",
    "bins = [0, 44500, 65000]\n",
    "names = ['Low', 'Mid', 'High']\n",
    "\n",
    "d = dict(enumerate(names, 1))\n",
    "\n",
    "loan['incrange'] = np.vectorize(d.get)(np.digitize(loan['annual_inc'], bins))\n",
    "\n"
   ]
  },
  {
   "cell_type": "code",
   "execution_count": 90,
   "metadata": {},
   "outputs": [],
   "source": [
    "#Bracket for loan amount\n",
    "bins = [0, 6000, 11200]\n",
    "names = ['Low', 'Mid', 'High']\n",
    "\n",
    "d = dict(enumerate(names, 1))\n",
    "\n",
    "loan['loanrange'] = np.vectorize(d.get)(np.digitize(loan['loan_amnt'], bins))"
   ]
  },
  {
   "cell_type": "code",
   "execution_count": 89,
   "metadata": {},
   "outputs": [
    {
     "data": {
      "text/plain": [
       "0    high\n",
       "1    high\n",
       "2    high\n",
       "3    high\n",
       "5    high\n",
       "Name: incrange, dtype: object"
      ]
     },
     "execution_count": 89,
     "metadata": {},
     "output_type": "execute_result"
    }
   ],
   "source": [
    "loan['incrange'].head(5)"
   ]
  },
  {
   "cell_type": "code",
   "execution_count": 93,
   "metadata": {},
   "outputs": [
    {
     "name": "stdout",
     "output_type": "stream",
     "text": [
      "loan_status  Charged Off  Fully Paid\n",
      "incrange                            \n",
      "high                5594       32851\n",
      "low                    2           9\n",
      "mid                   31          90\n"
     ]
    },
    {
     "data": {
      "image/png": "[encoded data removed]",
      "text/plain": [
       "<Figure size 720x360 with 1 Axes>"
      ]
     },
     "metadata": {
      "needs_background": "light"
     },
     "output_type": "display_data"
    }
   ],
   "source": [
    "# Calculating the number of loan_status' across different incranges\n",
    "status_incrange = loan.groupby(['incrange', 'loan_status'])['id'].count().reset_index()\n",
    "status_incrange = status_incrange.pivot_table(index='incrange', columns='loan_status', values='id')\n",
    "print(status_incrange)\n",
    "# Preparation to create the stacked bar plot\n",
    "total = status_incrange['Fully Paid']+status_incrange['Charged Off']\n",
    "status_incrange['Fully Paid'] = status_incrange['Fully Paid']/total\n",
    "status_incrange['Charged Off'] = status_incrange['Charged Off']/total\n",
    "plt.figure(figsize=(10,5))\n",
    "status_incrange['Fully Paid'].plot(kind='bar', color='green', label='Fully Paid')\n",
    "status_incrange['Charged Off'].plot(kind='bar', bottom=status_incrange['Fully Paid'], color='red', label='Charged Off')\n",
    "plt.legend(loc='upper right', bbox_to_anchor=(1.20,1))\n",
    "#plt.title('Percent of Charged Off loans increase as the incrange deteriorates')\n",
    "plt.show()\n"
   ]
  },
  {
   "cell_type": "code",
   "execution_count": 80,
   "metadata": {},
   "outputs": [
    {
     "data": {
      "text/plain": [
       "count    3.857700e+04\n",
       "mean     6.877797e+04\n",
       "std      6.421868e+04\n",
       "min      4.000000e+03\n",
       "5%       2.400000e+04\n",
       "30%      4.450000e+04\n",
       "50%      5.886800e+04\n",
       "60%      6.500400e+04\n",
       "95%      1.400040e+05\n",
       "max      6.000000e+06\n",
       "Name: annual_inc, dtype: float64"
      ]
     },
     "execution_count": 80,
     "metadata": {},
     "output_type": "execute_result"
    }
   ],
   "source": [
    "loan['annual_inc'].describe(percentiles=[.05,.30,.60,.95])"
   ]
  },
  {
   "cell_type": "code",
   "execution_count": 87,
   "metadata": {},
   "outputs": [
    {
     "data": {
      "text/plain": [
       "count    38577.000000\n",
       "mean     11047.025430\n",
       "std       7348.441646\n",
       "min        500.000000\n",
       "5%        2400.000000\n",
       "30%       6000.000000\n",
       "50%       9600.000000\n",
       "60%      11200.000000\n",
       "95%      25000.000000\n",
       "max      35000.000000\n",
       "Name: loan_amnt, dtype: float64"
      ]
     },
     "execution_count": 87,
     "metadata": {},
     "output_type": "execute_result"
    }
   ],
   "source": [
    "loan['loan_amnt'].describe(percentiles=[.05,.30,.60,.95])\n"
   ]
  },
  {
   "cell_type": "code",
   "execution_count": 92,
   "metadata": {},
   "outputs": [
    {
     "name": "stdout",
     "output_type": "stream",
     "text": [
      "loan_status  Charged Off  Fully Paid\n",
      "loanrange                           \n",
      "high                2569       12891\n",
      "low                 1431        8983\n",
      "mid                 1627       11076\n"
     ]
    },
    {
     "data": {
      "image/png": "[encoded data removed]",
      "text/plain": [
       "<Figure size 720x360 with 1 Axes>"
      ]
     },
     "metadata": {
      "needs_background": "light"
     },
     "output_type": "display_data"
    }
   ],
   "source": [
    "# Calculating the number of loan_status' across different loanranges\n",
    "status_loanrange = loan.groupby(['loanrange', 'loan_status'])['id'].count().reset_index()\n",
    "status_loanrange = status_loanrange.pivot_table(index='loanrange', columns='loan_status', values='id')\n",
    "print(status_loanrange)\n",
    "# Preparation to create the stacked bar plot\n",
    "total = status_loanrange['Fully Paid']+status_loanrange['Charged Off']\n",
    "status_loanrange['Fully Paid'] = status_loanrange['Fully Paid']/total\n",
    "status_loanrange['Charged Off'] = status_loanrange['Charged Off']/total\n",
    "plt.figure(figsize=(10,5))\n",
    "status_loanrange['Fully Paid'].plot(kind='bar', color='green', label='Fully Paid')\n",
    "status_loanrange['Charged Off'].plot(kind='bar', bottom=status_loanrange['Fully Paid'], color='red', label='Charged Off')\n",
    "plt.legend(loc='upper right', bbox_to_anchor=(1.20,1))\n",
    "#plt.title('Percent of Charged Off loans increase as the loanrange deteriorates')\n",
    "plt.show()"
   ]
  },
  {
   "cell_type": "code",
   "execution_count": null,
   "metadata": {},
   "outputs": [],
   "source": [
    "verification_status"
   ]
  }
 ],
 "metadata": {
  "colab": {
   "name": "lending_club_ver2.ipynb",
   "provenance": [],
   "version": "0.3.2"
  },
  "kernelspec": {
   "display_name": "Python 3",
   "language": "python",
   "name": "python3"
  },
  "language_info": {
   "codemirror_mode": {
    "name": "ipython",
    "version": 3
   },
   "file_extension": ".py",
   "mimetype": "text/x-python",
   "name": "python",
   "nbconvert_exporter": "python",
   "pygments_lexer": "ipython3",
   "version": "3.7.1"
  }
 },
 "nbformat": 4,
 "nbformat_minor": 1
}
